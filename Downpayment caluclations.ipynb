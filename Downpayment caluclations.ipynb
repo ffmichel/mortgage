{
 "cells": [
  {
   "cell_type": "code",
   "execution_count": 1,
   "metadata": {},
   "outputs": [],
   "source": [
    "import sympy as sp\n",
    "\n",
    "(x, r, H, m, pt, p_raise, t, S, ins, C,\n",
    " P_cap) = sp.symbols('x r H m prop_t prop_raise fed_t S ins C P_cap')\n",
    "N, T = sp.symbols('N T', integer=True)"
   ]
  },
  {
   "cell_type": "markdown",
   "metadata": {
    "variables": {
     "C": "$\\displaystyle C$",
     "H": "$\\displaystyle H$",
     "N": "$\\displaystyle N$",
     "P_cap": "$\\displaystyle P_{cap}$",
     "S": "$\\displaystyle S$",
     "T": "$\\displaystyle T$",
     "ins": "$\\displaystyle ins$",
     "m": "$\\displaystyle m$",
     "p_raise": "$\\displaystyle prop_{raise}$",
     "pt": "$\\displaystyle prop_{t}$",
     "r": "$\\displaystyle r$",
     "t": "$\\displaystyle fed_{t}$",
     "x": "$\\displaystyle x$"
    }
   },
   "source": [
    "* {{x}} : Downpayment, what we want to optimize.\n",
    "* {{r}} : Mortgage monthly rate.\n",
    "* {{H}} : House price\n",
    "* {{m}} : Monthly mortgage payment.\n",
    "* {{pt}} : Yearly property tax.\n",
    "* {{p_raise}} : Yearly property value increase, by county.\n",
    "* {{t}} : Marginal yearly tax rate.\n",
    "* {{S}} : Standard deduction (taxes). \n",
    "* {{ins}}: Monthly insurance.\n",
    "* {{T}} : Mortgage term in years.\n",
    "* {{N}} : Sale date in years.\n",
    "* {{C}} : Monthly capital available\n",
    "* {{P_cap}} : Cap on principal interest deduction."
   ]
  },
  {
   "cell_type": "code",
   "execution_count": 2,
   "metadata": {},
   "outputs": [],
   "source": [
    "def sp_max(var1, var2):\n",
    "    return sp.Piecewise((var1, var1 >= var2), (var2, var1 < var2))\n",
    "\n",
    "\n",
    "def sp_min(var1, var2):\n",
    "    return sp.Piecewise((var1, var1 <= var2), (var2, var1 > var2))\n",
    "\n",
    "\n",
    "k = sp.Symbol('k', integer=True)\n",
    "P_k = sp.Symbol('P_k')\n",
    "P_k_sub = (1 + r)**k * (H - x) - (m / r) * ((1 + r)**k - 1)\n",
    "\n",
    "I_k = sp.Symbol('I_k')\n",
    "I_k_sub = r * sp_min(P_k, P_cap)\n",
    "\n",
    "year_num = sp.Symbol('Y', integer=True)\n",
    "yearly_property_tax = pt * (1 + p_raise)**year_num * H\n",
    "deductible_year = yearly_property_tax + sp.Sum(I_k, (k, 12 * year_num, 12 *\n",
    "                                                     (year_num + 1) - 1))\n",
    "\n",
    "deduction_year = sp_max(deductible_year - S, 0) * t\n",
    "\n",
    "year_k = sp.floor(k / 12)\n",
    "\n",
    "deduction_k = sp.Rational(1, 12) * deduction_year.subs(year_num, year_k)\n",
    "property_tax_k = sp.Rational(1, 12) * yearly_property_tax.subs(\n",
    "    year_num, year_k)"
   ]
  },
  {
   "cell_type": "code",
   "execution_count": 3,
   "metadata": {},
   "outputs": [],
   "source": [
    "# Creating equations for display:\n",
    "(disp_deductible_year, disp_deduction_year,\n",
    " disp_deduction_k) = sp.symbols('deductible_Y deduction_Y deduction_k')\n",
    "\n",
    "disp_eq1 = sp.Eq(P_k, P_k_sub)\n",
    "disp_eq2 = sp.Eq(I_k, I_k_sub)\n",
    "disp_eq3 = sp.Eq(disp_deductible_year, deductible_year)\n",
    "disp_eq4 = sp.Eq(disp_deduction_year, deduction_year)\n",
    "disp_eq5 = sp.Eq(disp_deduction_k, deduction_k)"
   ]
  },
  {
   "cell_type": "markdown",
   "metadata": {
    "variables": {
     "disp_eq1": "$\\displaystyle P_{k} = - \\frac{m \\left(\\left(r + 1\\right)^{k} - 1\\right)}{r} + \\left(H - x\\right) \\left(r + 1\\right)^{k}$",
     "disp_eq2": "$\\displaystyle I_{k} = r \\left(\\begin{cases} P_{k} & \\text{for}\\: P_{cap} \\geq P_{k} \\\\P_{cap} & \\text{otherwise} \\end{cases}\\right)$",
     "disp_eq3": "$\\displaystyle deductible_{Y} = H prop_{t} \\left(prop_{raise} + 1\\right)^{Y} + \\sum_{k=12 Y}^{12 Y + 11} I_{k}$",
     "disp_eq4": "$\\displaystyle deduction_{Y} = fed_{t} \\left(\\begin{cases} H prop_{t} \\left(prop_{raise} + 1\\right)^{Y} - S + \\sum_{k=12 Y}^{12 Y + 11} I_{k} & \\text{for}\\: H prop_{t} \\left(prop_{raise} + 1\\right)^{Y} - S + \\sum_{k=12 Y}^{12 Y + 11} I_{k} \\geq 0 \\\\0 & \\text{otherwise} \\end{cases}\\right)$",
     "disp_eq5": "$\\displaystyle deduction_{k} = \\frac{fed_{t} \\left(\\begin{cases} H prop_{t} \\left(prop_{raise} + 1\\right)^{\\left\\lfloor{\\frac{k}{12}}\\right\\rfloor} - S + \\sum_{k=12 \\left\\lfloor{\\frac{k}{12}}\\right\\rfloor}^{12 \\left\\lfloor{\\frac{k}{12}}\\right\\rfloor + 11} I_{k} & \\text{for}\\: H prop_{t} \\left(prop_{raise} + 1\\right)^{\\left\\lfloor{\\frac{k}{12}}\\right\\rfloor} - S + \\sum_{k=12 \\left\\lfloor{\\frac{k}{12}}\\right\\rfloor}^{12 \\left\\lfloor{\\frac{k}{12}}\\right\\rfloor + 11} I_{k} \\geq 0 \\\\0 & \\text{otherwise} \\end{cases}\\right)}{12}$",
     "k": "$\\displaystyle k$",
     "year_num": "$\\displaystyle Y$"
    }
   },
   "source": [
    "Remaining principal for the {{k}}<sup>th</sup> month:\n",
    "\n",
    "{{disp_eq1}}\n",
    "\n",
    "Interest for the {{k}}<sup>th</sup> month:\n",
    "\n",
    "{{disp_eq2}}\n",
    "\n",
    "Deductible portion for year {{year_num}}:\n",
    "\n",
    "{{disp_eq3}}\n",
    "\n",
    "Deductions for year {{year_num}}:\n",
    "\n",
    "{{disp_eq4}}\n",
    "\n",
    "Deductions for the {{k}}<sup>th</sup> month:\n",
    "\n",
    "{{disp_eq5}}"
   ]
  },
  {
   "cell_type": "code",
   "execution_count": 4,
   "metadata": {},
   "outputs": [],
   "source": [
    "substitution_dict = {\n",
    "    N: 7,\n",
    "    T: 30,\n",
    "    r: (3.125 / 100) / 12,\n",
    "    pt: 1.3 / 100,\n",
    "    p_raise: 1.5 / 100,\n",
    "    t: 32 / 100,\n",
    "    H: 1.4e6,\n",
    "    C: 5900,\n",
    "    S: 24400,\n",
    "    ins: 100,\n",
    "    P_cap: 750000\n",
    "}"
   ]
  },
  {
   "cell_type": "code",
   "execution_count": 5,
   "metadata": {},
   "outputs": [],
   "source": [
    "k_subs = {I_k: I_k_sub, P_k: P_k_sub}\n",
    "\n",
    "deduction_N = deduction_k.subs(k_subs).subs(k, 12 * N)\n",
    "property_tax_N = property_tax_k.subs(k_subs).subs(k, 12 * N)\n",
    "eq1 = sp.Eq(m + property_tax_N - deduction_N + ins, C).doit()\n",
    "\n",
    "P_T = P_k_sub.subs(k, 12 * T)\n",
    "eq2 = sp.Eq(P_T, 0).doit()"
   ]
  },
  {
   "cell_type": "code",
   "execution_count": 6,
   "metadata": {},
   "outputs": [],
   "source": [
    "eq1 = eq1.subs(substitution_dict)\n",
    "eq2 = eq2.subs(substitution_dict)\n",
    "vals = sp.nsolve([eq1, eq2], [m, x], [1, 1])"
   ]
  },
  {
   "cell_type": "code",
   "execution_count": 7,
   "metadata": {},
   "outputs": [],
   "source": [
    "m_star = vals[0]\n",
    "x_star = vals[1]\n",
    "\n",
    "all_substitutions = {**substitution_dict, **{m: m_star, x: x_star}}\n",
    "monthly_tax = property_tax_N.subs(all_substitutions)\n",
    "monthy_deductions = deduction_N.subs(all_substitutions)"
   ]
  },
  {
   "cell_type": "markdown",
   "metadata": {
    "variables": {
     "'{:,.0f}'.format(float(monthy_deductions))": "513",
     "'{:,.0f}'.format(m_star)": "4,630",
     "'{:,.0f}'.format(monthly_tax)": "1,683",
     "'{:,.0f}'.format(x_star)": "319,239",
     "disp_deduction_k": "$\\displaystyle deduction_{k}$",
     "m": "$\\displaystyle m$",
     "x": "$\\displaystyle x$"
    }
   },
   "source": [
    "Monthly mortgage payment ({{m}}): {{'{:,.0f}'.format(m_star)}}\n",
    "\n",
    "Downpayment ({{x}}): {{'{:,.0f}'.format(x_star)}}\n",
    "\n",
    "Monthly tax : {{'{:,.0f}'.format(monthly_tax)}}\n",
    "\n",
    "Monthly deduction ({{disp_deduction_k}}): {{'{:,.0f}'.format(float(monthy_deductions))}}"
   ]
  },
  {
   "cell_type": "markdown",
   "metadata": {},
   "source": [
    "## Total gains in the buyers case"
   ]
  },
  {
   "cell_type": "code",
   "execution_count": 8,
   "metadata": {},
   "outputs": [],
   "source": [
    "h, s, espp, closing_costs = sp.symbols('h s espp closing-costs')\n",
    "\n",
    "appreciation_substitutions = {\n",
    "    **all_substitutions,\n",
    "    **{\n",
    "        h: 2 / 100,\n",
    "        s: 8 / 100,\n",
    "        espp: 1900 * 6,\n",
    "        closing_costs: 30_000\n",
    "    }\n",
    "}\n",
    "appreciated_house_price = (1 + h)**N * H\n",
    "gains = appreciated_house_price - P_k_sub.subs(k, 12 * N) - closing_costs"
   ]
  },
  {
   "cell_type": "markdown",
   "metadata": {
    "variables": {
     "'{:,.0f}'.format(appreciated_house_price.subs(appreciation_substitutions).doit())": "1,608,160",
     "'{:,.0f}'.format(gains.subs(appreciation_substitutions).doit())": "667,595",
     "appreciation_substitutions[N]": "7",
     "appreciation_substitutions[h]*100": "2.0"
    }
   },
   "source": [
    "House price after {{appreciation_substitutions[N]}} years: {{'{:,.0f}'.format(appreciated_house_price.subs(appreciation_substitutions).doit())}}\n",
    "\n",
    "Total gains with house appreciation of {{appreciation_substitutions[h]*100}}%: {{'{:,.0f}'.format(gains.subs(appreciation_substitutions).doit())}}"
   ]
  },
  {
   "cell_type": "markdown",
   "metadata": {},
   "source": [
    "#### Total gains in the renters case"
   ]
  },
  {
   "cell_type": "code",
   "execution_count": 9,
   "metadata": {},
   "outputs": [],
   "source": [
    "appreciated_downpayment = (1 + s)**N * appreciation_substitutions[x]"
   ]
  },
  {
   "cell_type": "markdown",
   "metadata": {
    "variables": {
     "'{:,.0f}'.format(appreciated_downpayment.subs(appreciation_substitutions).doit())": "547,120",
     "appreciation_substitutions[N]": "7"
    }
   },
   "source": [
    "Downpayment after {{appreciation_substitutions[N]}} years:\n",
    "{{'{:,.0f}'.format(appreciated_downpayment.subs(appreciation_substitutions).doit())}}"
   ]
  },
  {
   "cell_type": "code",
   "execution_count": 10,
   "metadata": {},
   "outputs": [],
   "source": [
    "s_12 = sp.sqrt(1 + s) - 1\n",
    "\n",
    "espp_gains = sp.Sum((1 + s_12)**k * espp, (k, 0, 2 * N))"
   ]
  },
  {
   "cell_type": "markdown",
   "metadata": {
    "variables": {
     "'{:,.0f}'.format((appreciated_downpayment + espp_gains).subs(appreciation_substitutions).doit())": "774,088",
     "'{:,.0f}'.format(espp_gains.subs(appreciation_substitutions).doit())": "226,968",
     "appreciation_substitutions[N]": "7",
     "appreciation_substitutions[s]*100": "8.0"
    }
   },
   "source": [
    "ESPP after {{appreciation_substitutions[N]}} years: {{'{:,.0f}'.format(espp_gains.subs(appreciation_substitutions).doit())}}\n",
    "\n",
    "Total gains with stock appreciation of {{appreciation_substitutions[s]*100}}%: \n",
    "{{'{:,.0f}'.format((appreciated_downpayment + espp_gains).subs(appreciation_substitutions).doit())}}"
   ]
  },
  {
   "cell_type": "markdown",
   "metadata": {},
   "source": [
    "## More Downpayment on mortgage"
   ]
  },
  {
   "cell_type": "code",
   "execution_count": 11,
   "metadata": {},
   "outputs": [],
   "source": [
    "appreciation_substitutions[x] = 2 * appreciation_substitutions[x]"
   ]
  },
  {
   "cell_type": "markdown",
   "metadata": {
    "variables": {
     "'{:,.0f}'.format(appreciated_house_price.subs(appreciation_substitutions).doit())": "1,608,160",
     "'{:,.0f}'.format(appreciation_substitutions[x])": "638,479",
     "'{:,.0f}'.format(gains.subs(appreciation_substitutions).doit())": "1,064,782",
     "appreciation_substitutions[N]": "7",
     "appreciation_substitutions[h]*100": "2.0"
    }
   },
   "source": [
    "Downpayment:\n",
    "{{'{:,.0f}'.format(appreciation_substitutions[x])}}\n",
    "\n",
    "House price after {{appreciation_substitutions[N]}} years: {{'{:,.0f}'.format(appreciated_house_price.subs(appreciation_substitutions).doit())}}\n",
    "\n",
    "Total gains with house appreciation of {{appreciation_substitutions[h]*100}}%: {{'{:,.0f}'.format(gains.subs(appreciation_substitutions).doit())}}"
   ]
  },
  {
   "cell_type": "markdown",
   "metadata": {},
   "source": [
    "### Compared to investing that money"
   ]
  },
  {
   "cell_type": "code",
   "execution_count": 12,
   "metadata": {},
   "outputs": [],
   "source": [
    "appreciation_substitutions[x] = x_star"
   ]
  },
  {
   "cell_type": "markdown",
   "metadata": {
    "variables": {
     "'{:,.0f}'.format((appreciated_downpayment + espp_gains).subs(appreciation_substitutions).doit())": "774,088",
     "'{:,.0f}'.format((gains + appreciated_downpayment + espp_gains).subs(appreciation_substitutions).doit())": "1,441,683",
     "'{:,.0f}'.format(appreciated_house_price.subs(appreciation_substitutions).doit())": "1,608,160",
     "'{:,.0f}'.format(appreciation_substitutions[x])": "319,239",
     "'{:,.0f}'.format(gains.subs(appreciation_substitutions).doit())": "667,595",
     "appreciation_substitutions[N]": "7",
     "appreciation_substitutions[h]*100": "2.0",
     "appreciation_substitutions[s]*100": "8.0"
    }
   },
   "source": [
    "Downpayment:\n",
    "{{'{:,.0f}'.format(appreciation_substitutions[x])}}\n",
    "\n",
    "House price after {{appreciation_substitutions[N]}} years: {{'{:,.0f}'.format(appreciated_house_price.subs(appreciation_substitutions).doit())}}\n",
    "\n",
    "Total gains with house appreciation of {{appreciation_substitutions[h]*100}}%: {{'{:,.0f}'.format(gains.subs(appreciation_substitutions).doit())}}\n",
    "\n",
    "Total gains with stock appreciation of {{appreciation_substitutions[s]*100}}%: \n",
    "{{'{:,.0f}'.format((appreciated_downpayment + espp_gains).subs(appreciation_substitutions).doit())}}\n",
    "\n",
    "Sum:\n",
    "{{'{:,.0f}'.format((gains + appreciated_downpayment + espp_gains).subs(appreciation_substitutions).doit())}}"
   ]
  }
 ],
 "metadata": {
  "kernelspec": {
   "display_name": "Python 3",
   "language": "python",
   "name": "python3"
  },
  "language_info": {
   "codemirror_mode": {
    "name": "ipython",
    "version": 3
   },
   "file_extension": ".py",
   "mimetype": "text/x-python",
   "name": "python",
   "nbconvert_exporter": "python",
   "pygments_lexer": "ipython3",
   "version": "3.7.0"
  }
 },
 "nbformat": 4,
 "nbformat_minor": 2
}
